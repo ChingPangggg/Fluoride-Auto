{
  "nbformat": 4,
  "nbformat_minor": 0,
  "metadata": {
    "colab": {
      "name": "flow_analysis_total_nov24.ipynb",
      "provenance": [],
      "collapsed_sections": [],
      "include_colab_link": true
    },
    "kernelspec": {
      "name": "python3",
      "display_name": "Python 3"
    }
  },
  "cells": [
    {
      "cell_type": "markdown",
      "metadata": {
        "id": "view-in-github",
        "colab_type": "text"
      },
      "source": [
        "<a href=\"https://colab.research.google.com/github/ChingPangggg/Fluoride-Auto/blob/master/Fall%202019/data_analysis_colab/flow_analysis_total_nov24.ipynb\" target=\"_parent\"><img src=\"https://colab.research.google.com/assets/colab-badge.svg\" alt=\"Open In Colab\"/></a>"
      ]
    },
    {
      "cell_type": "code",
      "metadata": {
        "id": "ROaRW4tk9LW8",
        "colab_type": "code",
        "colab": {
          "base_uri": "https://localhost:8080/",
          "height": 690
        },
        "outputId": "17c9aca8-177e-4e28-91c8-ed7484b92501"
      },
      "source": [
        "!pip install aguaclara"
      ],
      "execution_count": 1,
      "outputs": [
        {
          "output_type": "stream",
          "text": [
            "Collecting aguaclara\n",
            "\u001b[?25l  Downloading https://files.pythonhosted.org/packages/b3/b0/b8a7f63a63b37fb9259b344169ec380d0be193c12c3263dc50002e6a0724/aguaclara-0.1.13.tar.gz (85kB)\n",
            "\u001b[K     |████████████████████████████████| 92kB 4.0MB/s \n",
            "\u001b[?25hCollecting matplotlib==3.0.3\n",
            "\u001b[?25l  Downloading https://files.pythonhosted.org/packages/e9/69/f5e05f578585ed9935247be3788b374f90701296a70c8871bcd6d21edb00/matplotlib-3.0.3-cp36-cp36m-manylinux1_x86_64.whl (13.0MB)\n",
            "\u001b[K     |████████████████████████████████| 13.0MB 171kB/s \n",
            "\u001b[?25hRequirement already satisfied: urllib3 in /usr/local/lib/python3.6/dist-packages (from aguaclara) (1.24.3)\n",
            "Collecting pint==0.8.1\n",
            "\u001b[?25l  Downloading https://files.pythonhosted.org/packages/1e/40/6938f7d544eef208a8183c2c80624289e8a4f4e0aea43f4658b9527077de/Pint-0.8.1.tar.gz (162kB)\n",
            "\u001b[K     |████████████████████████████████| 163kB 36.6MB/s \n",
            "\u001b[?25hRequirement already satisfied: pandas in /usr/local/lib/python3.6/dist-packages (from aguaclara) (0.25.3)\n",
            "Requirement already satisfied: scipy in /usr/local/lib/python3.6/dist-packages (from aguaclara) (1.3.3)\n",
            "Requirement already satisfied: kiwisolver>=1.0.1 in /usr/local/lib/python3.6/dist-packages (from matplotlib==3.0.3->aguaclara) (1.1.0)\n",
            "Requirement already satisfied: numpy>=1.10.0 in /usr/local/lib/python3.6/dist-packages (from matplotlib==3.0.3->aguaclara) (1.17.4)\n",
            "Requirement already satisfied: cycler>=0.10 in /usr/local/lib/python3.6/dist-packages (from matplotlib==3.0.3->aguaclara) (0.10.0)\n",
            "Requirement already satisfied: python-dateutil>=2.1 in /usr/local/lib/python3.6/dist-packages (from matplotlib==3.0.3->aguaclara) (2.6.1)\n",
            "Requirement already satisfied: pyparsing!=2.0.4,!=2.1.2,!=2.1.6,>=2.0.1 in /usr/local/lib/python3.6/dist-packages (from matplotlib==3.0.3->aguaclara) (2.4.5)\n",
            "Requirement already satisfied: pytz>=2017.2 in /usr/local/lib/python3.6/dist-packages (from pandas->aguaclara) (2018.9)\n",
            "Requirement already satisfied: setuptools in /usr/local/lib/python3.6/dist-packages (from kiwisolver>=1.0.1->matplotlib==3.0.3->aguaclara) (42.0.1)\n",
            "Requirement already satisfied: six in /usr/local/lib/python3.6/dist-packages (from cycler>=0.10->matplotlib==3.0.3->aguaclara) (1.12.0)\n",
            "Building wheels for collected packages: aguaclara, pint\n",
            "  Building wheel for aguaclara (setup.py) ... \u001b[?25l\u001b[?25hdone\n",
            "  Created wheel for aguaclara: filename=aguaclara-0.1.13-cp36-none-any.whl size=97010 sha256=e7c9df88a3924eb17578ec96fb72b6ed4eae0527aecd27270ab5199aa97cdeb4\n",
            "  Stored in directory: /root/.cache/pip/wheels/13/65/3f/fa24d7d43535d7c44774b8f05d782324a26a155afc5447de05\n",
            "  Building wheel for pint (setup.py) ... \u001b[?25l\u001b[?25hdone\n",
            "  Created wheel for pint: filename=Pint-0.8.1-py2.py3-none-any.whl size=134155 sha256=ac33acca517325d1077699d094c7c7d9e107b4f3d5dc7fa1483c1ab5a6d6fda0\n",
            "  Stored in directory: /root/.cache/pip/wheels/b4/56/36/7c4d6a4e3660e233b95e3b0482551915cb184abca0f93ee1dd\n",
            "Successfully built aguaclara pint\n",
            "\u001b[31mERROR: albumentations 0.1.12 has requirement imgaug<0.2.7,>=0.2.5, but you'll have imgaug 0.2.9 which is incompatible.\u001b[0m\n",
            "Installing collected packages: matplotlib, pint, aguaclara\n",
            "  Found existing installation: matplotlib 3.1.2\n",
            "    Uninstalling matplotlib-3.1.2:\n",
            "      Successfully uninstalled matplotlib-3.1.2\n",
            "Successfully installed aguaclara-0.1.13 matplotlib-3.0.3 pint-0.8.1\n"
          ],
          "name": "stdout"
        },
        {
          "output_type": "display_data",
          "data": {
            "application/vnd.colab-display-data+json": {
              "pip_warning": {
                "packages": [
                  "matplotlib",
                  "mpl_toolkits"
                ]
              }
            }
          },
          "metadata": {
            "tags": []
          }
        }
      ]
    },
    {
      "cell_type": "code",
      "metadata": {
        "id": "DBMOVZWQ9MXZ",
        "colab_type": "code",
        "colab": {}
      },
      "source": [
        "import aguaclara.research.procoda_parser as pp\n",
        "import matplotlib.pyplot as plt\n",
        "import numpy as np\n",
        "import aguaclara.core.constants as c\n",
        "import aguaclara.core.physchem as pc\n",
        "import pandas as pd\n",
        "from aguaclara.research.peristaltic_pump import vol_per_rev_LS\n",
        "from aguaclara.core.units import unit_registry as u\n",
        "from scipy import integrate\n",
        "from aguaclara.research.peristaltic_pump import flow_rate\n",
        "from aguaclara.core.units import u\n",
        "import aguaclara as ac\n",
        "from scipy import integrate"
      ],
      "execution_count": 0,
      "outputs": []
    },
    {
      "cell_type": "code",
      "metadata": {
        "id": "kE0hEmIoXFn-",
        "colab_type": "code",
        "colab": {}
      },
      "source": [
        "nov24 = 'https://raw.githubusercontent.com/AguaClara/ram_pump/master/Fall%202019/datalog/nov24.tsv'\n",
        "note = pp.notes(nov24)"
      ],
      "execution_count": 0,
      "outputs": []
    },
    {
      "cell_type": "code",
      "metadata": {
        "id": "LvD0iyXn9OB7",
        "colab_type": "code",
        "colab": {}
      },
      "source": [
        "\n",
        "first_row = np.array([]);\n",
        "first_row = note.iloc[:,0].index.tolist()\n",
        "start = np.array([])\n",
        "end = np.array([])\n",
        "num_turn = 0; #starting number of turns\n",
        "turn = np.array([])\n",
        "for i in range(0,len(first_row)-1,2):\n",
        "  start = np.append(start,first_row[i])\n",
        "  end = np.append(end,first_row[i+1])\n",
        "  turn = np.append(turn,num_turn)\n",
        "  num_turn = num_turn+1\n",
        "a = np.empty(len(start));\n",
        "a.fill(100);\n",
        "start = np.add(start,a)\n",
        "end = np.subtract(end,a)\n",
        "start = np.array(start, dtype='int')\n",
        "end = np.array(end, dtype='int')\n"
      ],
      "execution_count": 0,
      "outputs": []
    },
    {
      "cell_type": "code",
      "metadata": {
        "id": "DW572thD9R-R",
        "colab_type": "code",
        "colab": {}
      },
      "source": [
        "#figure out if theres a way to put start end index in an array\n",
        "#check procoda parser documentation\n",
        "flow_tot = np.array([])\n",
        "rate_tot = np.array([])\n",
        "dur_tot = np.array([])\n",
        "for j in range (0,len(start)):\n",
        "  time = (pp.column_of_time(nov24,start[j],end[j])).to(u.s)\n",
        "  airchamber = -pp.column_of_data(nov24, start[j], 2, end[j], 'cm')\n",
        "  pump = pp.column_of_data(nov24, start[j], 4, end[j], 'rpm')\n",
        "  rate = np.array([])\n",
        "  deltatime = time[len(time)-1]-time[0];\n",
        "  #for loop or vector calc\n",
        "  for k in range(0,len(time)-1):\n",
        "    rate = np.append(rate, ac.flow_rate(ac.vol_per_rev_LS(17),pump[k]*2*600))\n",
        "  rate_avg =   np.average(rate)\n",
        "  flow = integrate.simps(rate, x=None, dx=deltatime, axis=-1, even='avg')\n",
        "  flow_tot = np.append(flow_tot,flow)\n",
        "  rate_tot = np.append(rate_tot,rate_avg)\n",
        "  dur_tot = np.append(dur_tot, deltatime)\n",
        "\n"
      ],
      "execution_count": 0,
      "outputs": []
    },
    {
      "cell_type": "code",
      "metadata": {
        "id": "qAJX8qW_KG3Y",
        "colab_type": "code",
        "outputId": "82179e92-266b-407e-aaff-9e89599b4f48",
        "colab": {
          "base_uri": "https://localhost:8080/",
          "height": 167
        }
      },
      "source": [
        "turn = np.array(turn, dtype='int')\n",
        "dur_tot = dur_tot\n",
        "flow_tot = flow_tot\n",
        "rate_tot = rate_tot\n",
        "for m in range(0, len(dur_tot)):\n",
        "  total = \"After {} turn, the total flow is {} in {}, and the average flow rate is {}.\"\n",
        "  print(total.format(turn[m], flow_tot[m], dur_tot[m], rate_tot[m]))"
      ],
      "execution_count": 8,
      "outputs": [
        {
          "output_type": "stream",
          "text": [
            "After 0 turn, the total flow is 36547972.6595244 in 99.45995615999088, and the average flow rate is 22.18046695119251.\n",
            "After 1 turn, the total flow is 18369669.23918104 in 68.95194336000579, and the average flow rate is 23.210658870221238.\n",
            "After 2 turn, the total flow is 14795635.358769702 in 62.21876544000331, and the average flow rate is 22.95599380949892.\n",
            "After 3 turn, the total flow is 19401727.796720482 in 69.54050016001254, and the average flow rate is 24.151420740066545.\n",
            "After 4 turn, the total flow is 18954478.570007328 in 67.95045504000079, and the average flow rate is 24.66579782651756.\n",
            "After 5 turn, the total flow is 17098915.655591723 in 64.56610656000734, and the average flow rate is 24.68325602557405.\n",
            "After 6 turn, the total flow is 22278324.06171412 in 77.50142207999708, and the average flow rate is 22.269795092895126.\n",
            "After 7 turn, the total flow is 15751157.798212413 in 70.87811904000176, and the average flow rate is 18.815777366207517.\n",
            "After 8 turn, the total flow is 10445086.30140396 in 68.60307743999421, and the average flow rate is 13.33902380935905.\n"
          ],
          "name": "stdout"
        }
      ]
    },
    {
      "cell_type": "code",
      "metadata": {
        "colab_type": "code",
        "id": "T65V7X34ON0H",
        "outputId": "c6b482f0-46d8-4f73-97ab-5d52b5941209",
        "colab": {
          "base_uri": "https://localhost:8080/",
          "height": 439
        }
      },
      "source": [
        "print(rate_tot)\n",
        "plt.figure(figsize=(12,6))\n",
        "plt.plot(turn,rate_tot, '-')\n",
        "plt.title('Flow Rate of Spring 9065K17 by turn', fontsize=16)\n",
        "plt.xlabel('Number of Turns')\n",
        "plt.ylabel('Flow Rate (mL/s)')\n",
        "plt.show()"
      ],
      "execution_count": 10,
      "outputs": [
        {
          "output_type": "stream",
          "text": [
            "[22.18046695 23.21065887 22.95599381 24.15142074 24.66579783 24.68325603\n",
            " 22.26979509 18.81577737 13.33902381]\n"
          ],
          "name": "stdout"
        },
        {
          "output_type": "display_data",
          "data": {
            "image/png": "[encoded data removed]",
            "text/plain": [
              "<Figure size 864x432 with 1 Axes>"
            ]
          },
          "metadata": {
            "tags": []
          }
        }
      ]
    }
  ]
}